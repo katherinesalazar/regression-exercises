{
 "cells": [
  {
   "cell_type": "markdown",
   "metadata": {},
   "source": [
    "# Feature Engineering Exercises \n",
    "- https://ds.codeup.com/regression/feature-engineering/"
   ]
  },
  {
   "cell_type": "code",
   "execution_count": 1,
   "metadata": {},
   "outputs": [],
   "source": [
    "import wrangle\n",
    "import warnings\n",
    "warnings.filterwarnings(\"ignore\")\n",
    "\n",
    "\n",
    "from pydataset import data\n",
    "import pandas as pd\n",
    "import numpy as np\n",
    "\n",
    "from sklearn.model_selection import train_test_split\n",
    "from sklearn.linear_model import LinearRegression\n",
    "import sklearn.feature_selection\n",
    "import sklearn.preprocessing"
   ]
  },
  {
   "cell_type": "code",
   "execution_count": 2,
   "metadata": {},
   "outputs": [],
   "source": [
    "def split(df):\n",
    "    '''\n",
    "    take in a DataFrame and return train, validate, and test DataFrames.\n",
    "    return train, validate, test DataFrames.\n",
    "    '''\n",
    "    train_validate, test = train_test_split(df, test_size=.2, random_state=123)\n",
    "    train, validate = train_test_split(train_validate, \n",
    "                                       test_size=.3, \n",
    "                                       random_state=123)\n",
    "    return train, validate, test"
   ]
  },
  {
   "cell_type": "markdown",
   "metadata": {},
   "source": [
    "**1. Load the tips dataset**"
   ]
  },
  {
   "cell_type": "code",
   "execution_count": 3,
   "metadata": {},
   "outputs": [],
   "source": [
    "# import data from pydataset\n",
    "from pydataset import data\n",
    "tips = data('tips')"
   ]
  },
  {
   "cell_type": "code",
   "execution_count": 5,
   "metadata": {},
   "outputs": [
    {
     "data": {
      "text/html": [
       "<div>\n",
       "<style scoped>\n",
       "    .dataframe tbody tr th:only-of-type {\n",
       "        vertical-align: middle;\n",
       "    }\n",
       "\n",
       "    .dataframe tbody tr th {\n",
       "        vertical-align: top;\n",
       "    }\n",
       "\n",
       "    .dataframe thead th {\n",
       "        text-align: right;\n",
       "    }\n",
       "</style>\n",
       "<table border=\"1\" class=\"dataframe\">\n",
       "  <thead>\n",
       "    <tr style=\"text-align: right;\">\n",
       "      <th></th>\n",
       "      <th>total_bill</th>\n",
       "      <th>tip</th>\n",
       "      <th>sex</th>\n",
       "      <th>smoker</th>\n",
       "      <th>day</th>\n",
       "      <th>time</th>\n",
       "      <th>size</th>\n",
       "    </tr>\n",
       "  </thead>\n",
       "  <tbody>\n",
       "    <tr>\n",
       "      <th>1</th>\n",
       "      <td>16.99</td>\n",
       "      <td>1.01</td>\n",
       "      <td>Female</td>\n",
       "      <td>No</td>\n",
       "      <td>Sun</td>\n",
       "      <td>Dinner</td>\n",
       "      <td>2</td>\n",
       "    </tr>\n",
       "    <tr>\n",
       "      <th>2</th>\n",
       "      <td>10.34</td>\n",
       "      <td>1.66</td>\n",
       "      <td>Male</td>\n",
       "      <td>No</td>\n",
       "      <td>Sun</td>\n",
       "      <td>Dinner</td>\n",
       "      <td>3</td>\n",
       "    </tr>\n",
       "    <tr>\n",
       "      <th>3</th>\n",
       "      <td>21.01</td>\n",
       "      <td>3.50</td>\n",
       "      <td>Male</td>\n",
       "      <td>No</td>\n",
       "      <td>Sun</td>\n",
       "      <td>Dinner</td>\n",
       "      <td>3</td>\n",
       "    </tr>\n",
       "    <tr>\n",
       "      <th>4</th>\n",
       "      <td>23.68</td>\n",
       "      <td>3.31</td>\n",
       "      <td>Male</td>\n",
       "      <td>No</td>\n",
       "      <td>Sun</td>\n",
       "      <td>Dinner</td>\n",
       "      <td>2</td>\n",
       "    </tr>\n",
       "    <tr>\n",
       "      <th>5</th>\n",
       "      <td>24.59</td>\n",
       "      <td>3.61</td>\n",
       "      <td>Female</td>\n",
       "      <td>No</td>\n",
       "      <td>Sun</td>\n",
       "      <td>Dinner</td>\n",
       "      <td>4</td>\n",
       "    </tr>\n",
       "  </tbody>\n",
       "</table>\n",
       "</div>"
      ],
      "text/plain": [
       "   total_bill   tip     sex smoker  day    time  size\n",
       "1       16.99  1.01  Female     No  Sun  Dinner     2\n",
       "2       10.34  1.66    Male     No  Sun  Dinner     3\n",
       "3       21.01  3.50    Male     No  Sun  Dinner     3\n",
       "4       23.68  3.31    Male     No  Sun  Dinner     2\n",
       "5       24.59  3.61  Female     No  Sun  Dinner     4"
      ]
     },
     "execution_count": 5,
     "metadata": {},
     "output_type": "execute_result"
    }
   ],
   "source": [
    "# make the dataset a pandas dataframe\n",
    "df = pd.DataFrame(tips)\n",
    "df.head()"
   ]
  },
  {
   "cell_type": "code",
   "execution_count": 6,
   "metadata": {},
   "outputs": [],
   "source": [
    "# Rename the size column because .size is a built-in Pandas attribute\n",
    "df = df.rename(columns={'size': 'number_of_people'})"
   ]
  },
  {
   "cell_type": "code",
   "execution_count": 7,
   "metadata": {},
   "outputs": [
    {
     "data": {
      "text/plain": [
       "pandas.core.frame.DataFrame"
      ]
     },
     "execution_count": 7,
     "metadata": {},
     "output_type": "execute_result"
    }
   ],
   "source": [
    "type(df)"
   ]
  },
  {
   "cell_type": "code",
   "execution_count": 8,
   "metadata": {},
   "outputs": [
    {
     "name": "stdout",
     "output_type": "stream",
     "text": [
      "<class 'pandas.core.frame.DataFrame'>\n",
      "Int64Index: 244 entries, 1 to 244\n",
      "Data columns (total 7 columns):\n",
      " #   Column            Non-Null Count  Dtype  \n",
      "---  ------            --------------  -----  \n",
      " 0   total_bill        244 non-null    float64\n",
      " 1   tip               244 non-null    float64\n",
      " 2   sex               244 non-null    object \n",
      " 3   smoker            244 non-null    object \n",
      " 4   day               244 non-null    object \n",
      " 5   time              244 non-null    object \n",
      " 6   number_of_people  244 non-null    int64  \n",
      "dtypes: float64(2), int64(1), object(4)\n",
      "memory usage: 15.2+ KB\n"
     ]
    }
   ],
   "source": [
    "df.info()"
   ]
  },
  {
   "cell_type": "markdown",
   "metadata": {},
   "source": [
    "**1a. Create a column named tip_percentage. This should be the tip amount divided by the total bill.** "
   ]
  },
  {
   "cell_type": "code",
   "execution_count": 9,
   "metadata": {},
   "outputs": [
    {
     "data": {
      "text/plain": [
       "1       5.944673\n",
       "2      16.054159\n",
       "3      16.658734\n",
       "4      13.978041\n",
       "5      14.680765\n",
       "         ...    \n",
       "240    20.392697\n",
       "241     7.358352\n",
       "242     8.822232\n",
       "243     9.820426\n",
       "244    15.974441\n",
       "Length: 244, dtype: float64"
      ]
     },
     "execution_count": 9,
     "metadata": {},
     "output_type": "execute_result"
    }
   ],
   "source": [
    "df.tip/df.total_bill*100"
   ]
  },
  {
   "cell_type": "code",
   "execution_count": 10,
   "metadata": {},
   "outputs": [],
   "source": [
    "df['tip_percentage'] = df.tip/df.total_bill*100"
   ]
  },
  {
   "cell_type": "code",
   "execution_count": 11,
   "metadata": {},
   "outputs": [
    {
     "name": "stdout",
     "output_type": "stream",
     "text": [
      "<class 'pandas.core.frame.DataFrame'>\n",
      "Int64Index: 244 entries, 1 to 244\n",
      "Data columns (total 8 columns):\n",
      " #   Column            Non-Null Count  Dtype  \n",
      "---  ------            --------------  -----  \n",
      " 0   total_bill        244 non-null    float64\n",
      " 1   tip               244 non-null    float64\n",
      " 2   sex               244 non-null    object \n",
      " 3   smoker            244 non-null    object \n",
      " 4   day               244 non-null    object \n",
      " 5   time              244 non-null    object \n",
      " 6   number_of_people  244 non-null    int64  \n",
      " 7   tip_percentage    244 non-null    float64\n",
      "dtypes: float64(3), int64(1), object(4)\n",
      "memory usage: 17.2+ KB\n"
     ]
    }
   ],
   "source": [
    "df.info()"
   ]
  },
  {
   "cell_type": "code",
   "execution_count": 12,
   "metadata": {},
   "outputs": [
    {
     "data": {
      "text/html": [
       "<div>\n",
       "<style scoped>\n",
       "    .dataframe tbody tr th:only-of-type {\n",
       "        vertical-align: middle;\n",
       "    }\n",
       "\n",
       "    .dataframe tbody tr th {\n",
       "        vertical-align: top;\n",
       "    }\n",
       "\n",
       "    .dataframe thead th {\n",
       "        text-align: right;\n",
       "    }\n",
       "</style>\n",
       "<table border=\"1\" class=\"dataframe\">\n",
       "  <thead>\n",
       "    <tr style=\"text-align: right;\">\n",
       "      <th></th>\n",
       "      <th>total_bill</th>\n",
       "      <th>tip</th>\n",
       "      <th>sex</th>\n",
       "      <th>smoker</th>\n",
       "      <th>day</th>\n",
       "      <th>time</th>\n",
       "      <th>number_of_people</th>\n",
       "      <th>tip_percentage</th>\n",
       "    </tr>\n",
       "  </thead>\n",
       "  <tbody>\n",
       "    <tr>\n",
       "      <th>1</th>\n",
       "      <td>16.99</td>\n",
       "      <td>1.01</td>\n",
       "      <td>Female</td>\n",
       "      <td>No</td>\n",
       "      <td>Sun</td>\n",
       "      <td>Dinner</td>\n",
       "      <td>2</td>\n",
       "      <td>5.944673</td>\n",
       "    </tr>\n",
       "    <tr>\n",
       "      <th>2</th>\n",
       "      <td>10.34</td>\n",
       "      <td>1.66</td>\n",
       "      <td>Male</td>\n",
       "      <td>No</td>\n",
       "      <td>Sun</td>\n",
       "      <td>Dinner</td>\n",
       "      <td>3</td>\n",
       "      <td>16.054159</td>\n",
       "    </tr>\n",
       "    <tr>\n",
       "      <th>3</th>\n",
       "      <td>21.01</td>\n",
       "      <td>3.50</td>\n",
       "      <td>Male</td>\n",
       "      <td>No</td>\n",
       "      <td>Sun</td>\n",
       "      <td>Dinner</td>\n",
       "      <td>3</td>\n",
       "      <td>16.658734</td>\n",
       "    </tr>\n",
       "    <tr>\n",
       "      <th>4</th>\n",
       "      <td>23.68</td>\n",
       "      <td>3.31</td>\n",
       "      <td>Male</td>\n",
       "      <td>No</td>\n",
       "      <td>Sun</td>\n",
       "      <td>Dinner</td>\n",
       "      <td>2</td>\n",
       "      <td>13.978041</td>\n",
       "    </tr>\n",
       "    <tr>\n",
       "      <th>5</th>\n",
       "      <td>24.59</td>\n",
       "      <td>3.61</td>\n",
       "      <td>Female</td>\n",
       "      <td>No</td>\n",
       "      <td>Sun</td>\n",
       "      <td>Dinner</td>\n",
       "      <td>4</td>\n",
       "      <td>14.680765</td>\n",
       "    </tr>\n",
       "  </tbody>\n",
       "</table>\n",
       "</div>"
      ],
      "text/plain": [
       "   total_bill   tip     sex smoker  day    time  number_of_people  \\\n",
       "1       16.99  1.01  Female     No  Sun  Dinner                 2   \n",
       "2       10.34  1.66    Male     No  Sun  Dinner                 3   \n",
       "3       21.01  3.50    Male     No  Sun  Dinner                 3   \n",
       "4       23.68  3.31    Male     No  Sun  Dinner                 2   \n",
       "5       24.59  3.61  Female     No  Sun  Dinner                 4   \n",
       "\n",
       "   tip_percentage  \n",
       "1        5.944673  \n",
       "2       16.054159  \n",
       "3       16.658734  \n",
       "4       13.978041  \n",
       "5       14.680765  "
      ]
     },
     "execution_count": 12,
     "metadata": {},
     "output_type": "execute_result"
    }
   ],
   "source": [
    "df.head()"
   ]
  },
  {
   "cell_type": "markdown",
   "metadata": {},
   "source": [
    "**1b. Create a column named price_per_person. This should be the total bill divided by the party size.**"
   ]
  },
  {
   "cell_type": "code",
   "execution_count": 14,
   "metadata": {},
   "outputs": [
    {
     "data": {
      "text/plain": [
       "1       8.495000\n",
       "2       3.446667\n",
       "3       7.003333\n",
       "4      11.840000\n",
       "5       6.147500\n",
       "         ...    \n",
       "240     9.676667\n",
       "241    13.590000\n",
       "242    11.335000\n",
       "243     8.910000\n",
       "244     9.390000\n",
       "Length: 244, dtype: float64"
      ]
     },
     "execution_count": 14,
     "metadata": {},
     "output_type": "execute_result"
    }
   ],
   "source": [
    "df.total_bill/df.number_of_people.astype(float)"
   ]
  },
  {
   "cell_type": "code",
   "execution_count": 16,
   "metadata": {},
   "outputs": [],
   "source": [
    "df['price_per_person'] = df.total_bill/df.number_of_people.astype(float)\n",
    "#.astype(float)*1000"
   ]
  },
  {
   "cell_type": "code",
   "execution_count": 17,
   "metadata": {},
   "outputs": [
    {
     "data": {
      "text/html": [
       "<div>\n",
       "<style scoped>\n",
       "    .dataframe tbody tr th:only-of-type {\n",
       "        vertical-align: middle;\n",
       "    }\n",
       "\n",
       "    .dataframe tbody tr th {\n",
       "        vertical-align: top;\n",
       "    }\n",
       "\n",
       "    .dataframe thead th {\n",
       "        text-align: right;\n",
       "    }\n",
       "</style>\n",
       "<table border=\"1\" class=\"dataframe\">\n",
       "  <thead>\n",
       "    <tr style=\"text-align: right;\">\n",
       "      <th></th>\n",
       "      <th>total_bill</th>\n",
       "      <th>tip</th>\n",
       "      <th>sex</th>\n",
       "      <th>smoker</th>\n",
       "      <th>day</th>\n",
       "      <th>time</th>\n",
       "      <th>number_of_people</th>\n",
       "      <th>tip_percentage</th>\n",
       "      <th>price_per_person</th>\n",
       "    </tr>\n",
       "  </thead>\n",
       "  <tbody>\n",
       "    <tr>\n",
       "      <th>1</th>\n",
       "      <td>16.99</td>\n",
       "      <td>1.01</td>\n",
       "      <td>Female</td>\n",
       "      <td>No</td>\n",
       "      <td>Sun</td>\n",
       "      <td>Dinner</td>\n",
       "      <td>2</td>\n",
       "      <td>5.944673</td>\n",
       "      <td>8.495000</td>\n",
       "    </tr>\n",
       "    <tr>\n",
       "      <th>2</th>\n",
       "      <td>10.34</td>\n",
       "      <td>1.66</td>\n",
       "      <td>Male</td>\n",
       "      <td>No</td>\n",
       "      <td>Sun</td>\n",
       "      <td>Dinner</td>\n",
       "      <td>3</td>\n",
       "      <td>16.054159</td>\n",
       "      <td>3.446667</td>\n",
       "    </tr>\n",
       "    <tr>\n",
       "      <th>3</th>\n",
       "      <td>21.01</td>\n",
       "      <td>3.50</td>\n",
       "      <td>Male</td>\n",
       "      <td>No</td>\n",
       "      <td>Sun</td>\n",
       "      <td>Dinner</td>\n",
       "      <td>3</td>\n",
       "      <td>16.658734</td>\n",
       "      <td>7.003333</td>\n",
       "    </tr>\n",
       "    <tr>\n",
       "      <th>4</th>\n",
       "      <td>23.68</td>\n",
       "      <td>3.31</td>\n",
       "      <td>Male</td>\n",
       "      <td>No</td>\n",
       "      <td>Sun</td>\n",
       "      <td>Dinner</td>\n",
       "      <td>2</td>\n",
       "      <td>13.978041</td>\n",
       "      <td>11.840000</td>\n",
       "    </tr>\n",
       "    <tr>\n",
       "      <th>5</th>\n",
       "      <td>24.59</td>\n",
       "      <td>3.61</td>\n",
       "      <td>Female</td>\n",
       "      <td>No</td>\n",
       "      <td>Sun</td>\n",
       "      <td>Dinner</td>\n",
       "      <td>4</td>\n",
       "      <td>14.680765</td>\n",
       "      <td>6.147500</td>\n",
       "    </tr>\n",
       "  </tbody>\n",
       "</table>\n",
       "</div>"
      ],
      "text/plain": [
       "   total_bill   tip     sex smoker  day    time  number_of_people  \\\n",
       "1       16.99  1.01  Female     No  Sun  Dinner                 2   \n",
       "2       10.34  1.66    Male     No  Sun  Dinner                 3   \n",
       "3       21.01  3.50    Male     No  Sun  Dinner                 3   \n",
       "4       23.68  3.31    Male     No  Sun  Dinner                 2   \n",
       "5       24.59  3.61  Female     No  Sun  Dinner                 4   \n",
       "\n",
       "   tip_percentage  price_per_person  \n",
       "1        5.944673          8.495000  \n",
       "2       16.054159          3.446667  \n",
       "3       16.658734          7.003333  \n",
       "4       13.978041         11.840000  \n",
       "5       14.680765          6.147500  "
      ]
     },
     "execution_count": 17,
     "metadata": {},
     "output_type": "execute_result"
    }
   ],
   "source": [
    "df.head()"
   ]
  },
  {
   "cell_type": "code",
   "execution_count": 18,
   "metadata": {},
   "outputs": [
    {
     "name": "stdout",
     "output_type": "stream",
     "text": [
      "<class 'pandas.core.frame.DataFrame'>\n",
      "Int64Index: 244 entries, 1 to 244\n",
      "Data columns (total 9 columns):\n",
      " #   Column            Non-Null Count  Dtype  \n",
      "---  ------            --------------  -----  \n",
      " 0   total_bill        244 non-null    float64\n",
      " 1   tip               244 non-null    float64\n",
      " 2   sex               244 non-null    object \n",
      " 3   smoker            244 non-null    object \n",
      " 4   day               244 non-null    object \n",
      " 5   time              244 non-null    object \n",
      " 6   number_of_people  244 non-null    int64  \n",
      " 7   tip_percentage    244 non-null    float64\n",
      " 8   price_per_person  244 non-null    float64\n",
      "dtypes: float64(4), int64(1), object(4)\n",
      "memory usage: 19.1+ KB\n"
     ]
    }
   ],
   "source": [
    "df.info()"
   ]
  },
  {
   "cell_type": "code",
   "execution_count": 20,
   "metadata": {},
   "outputs": [],
   "source": [
    "# For this specific exercise, we're only focusing on the numeric features\n",
    "df[\"dinner_time\"] = df.time == \"Dinner\"\n",
    "df = df[[\"total_bill\", \"tip\", \"number_of_people\", \"tip_percentage\", \"price_per_person\", \"dinner_time\"]]"
   ]
  },
  {
   "cell_type": "code",
   "execution_count": 21,
   "metadata": {},
   "outputs": [],
   "source": [
    "# Split the data\n",
    "train, validate, test = split(df)"
   ]
  },
  {
   "cell_type": "code",
   "execution_count": 22,
   "metadata": {},
   "outputs": [],
   "source": [
    "# X and y splits\n",
    "target = \"tip\"\n",
    "\n",
    "X_train = train.drop(columns=[target])\n",
    "y_train = train[target]\n",
    "\n",
    "X_validate = validate.drop(columns=[target])\n",
    "y_validate = validate[target]\n",
    "\n",
    "X_test = test.drop(columns=[target])\n",
    "y_test = test[target]"
   ]
  },
  {
   "cell_type": "code",
   "execution_count": 23,
   "metadata": {},
   "outputs": [
    {
     "data": {
      "text/html": [
       "<div>\n",
       "<style scoped>\n",
       "    .dataframe tbody tr th:only-of-type {\n",
       "        vertical-align: middle;\n",
       "    }\n",
       "\n",
       "    .dataframe tbody tr th {\n",
       "        vertical-align: top;\n",
       "    }\n",
       "\n",
       "    .dataframe thead th {\n",
       "        text-align: right;\n",
       "    }\n",
       "</style>\n",
       "<table border=\"1\" class=\"dataframe\">\n",
       "  <thead>\n",
       "    <tr style=\"text-align: right;\">\n",
       "      <th></th>\n",
       "      <th>total_bill</th>\n",
       "      <th>number_of_people</th>\n",
       "      <th>tip_percentage</th>\n",
       "      <th>price_per_person</th>\n",
       "      <th>dinner_time</th>\n",
       "    </tr>\n",
       "  </thead>\n",
       "  <tbody>\n",
       "    <tr>\n",
       "      <th>19</th>\n",
       "      <td>16.97</td>\n",
       "      <td>3</td>\n",
       "      <td>20.624632</td>\n",
       "      <td>5.656667</td>\n",
       "      <td>True</td>\n",
       "    </tr>\n",
       "    <tr>\n",
       "      <th>173</th>\n",
       "      <td>7.25</td>\n",
       "      <td>2</td>\n",
       "      <td>71.034483</td>\n",
       "      <td>3.625000</td>\n",
       "      <td>True</td>\n",
       "    </tr>\n",
       "    <tr>\n",
       "      <th>119</th>\n",
       "      <td>12.43</td>\n",
       "      <td>2</td>\n",
       "      <td>14.481094</td>\n",
       "      <td>6.215000</td>\n",
       "      <td>False</td>\n",
       "    </tr>\n",
       "    <tr>\n",
       "      <th>29</th>\n",
       "      <td>21.70</td>\n",
       "      <td>2</td>\n",
       "      <td>19.815668</td>\n",
       "      <td>10.850000</td>\n",
       "      <td>True</td>\n",
       "    </tr>\n",
       "    <tr>\n",
       "      <th>238</th>\n",
       "      <td>32.83</td>\n",
       "      <td>2</td>\n",
       "      <td>3.563814</td>\n",
       "      <td>16.415000</td>\n",
       "      <td>True</td>\n",
       "    </tr>\n",
       "  </tbody>\n",
       "</table>\n",
       "</div>"
      ],
      "text/plain": [
       "     total_bill  number_of_people  tip_percentage  price_per_person  \\\n",
       "19        16.97                 3       20.624632          5.656667   \n",
       "173        7.25                 2       71.034483          3.625000   \n",
       "119       12.43                 2       14.481094          6.215000   \n",
       "29        21.70                 2       19.815668         10.850000   \n",
       "238       32.83                 2        3.563814         16.415000   \n",
       "\n",
       "     dinner_time  \n",
       "19          True  \n",
       "173         True  \n",
       "119        False  \n",
       "29          True  \n",
       "238         True  "
      ]
     },
     "execution_count": 23,
     "metadata": {},
     "output_type": "execute_result"
    }
   ],
   "source": [
    "X_train.head()"
   ]
  },
  {
   "cell_type": "code",
   "execution_count": 24,
   "metadata": {},
   "outputs": [],
   "source": [
    "# Scale (Make the thing)\n",
    "scaler = sklearn.preprocessing.MinMaxScaler()\n",
    "\n",
    "# Fit the scaler, (fit the thing)\n",
    "scaler.fit(X_train)\n",
    "\n",
    "# Use the scaler to transform train, validate, test (use the thing)\n",
    "X_train_scaled = scaler.transform(X_train)\n",
    "X_validate_scaled = scaler.transform(X_validate)\n",
    "X_test_scaled = scaler.transform(X_test)"
   ]
  },
  {
   "cell_type": "code",
   "execution_count": 25,
   "metadata": {},
   "outputs": [
    {
     "data": {
      "text/plain": [
       "array([[0.30711445, 0.4       , 0.25286274, 0.15034389, 1.        ],\n",
       "       [0.09235528, 0.2       , 1.        , 0.03225806, 1.        ],\n",
       "       [0.20680513, 0.2       , 0.1618078 , 0.1827957 , 0.        ],\n",
       "       [0.41162174, 0.2       , 0.24087288, 0.45219413, 1.        ],\n",
       "       [0.65753425, 0.2       , 0.        , 0.77564661, 1.        ],\n",
       "       [0.78789218, 0.6       , 0.06198426, 0.38433595, 1.        ],\n",
       "       [0.44410075, 0.6       , 0.36296815, 0.15823888, 1.        ],\n",
       "       [0.3804684 , 0.2       , 0.18166098, 0.41121767, 1.        ],\n",
       "       [0.31794079, 0.2       , 0.16279257, 0.32897414, 1.        ],\n",
       "       [0.40720283, 0.6       , 0.18845606, 0.13397268, 1.        ],\n",
       "       [0.1979673 , 0.2       , 0.13198349, 0.17117117, 1.        ],\n",
       "       [0.19774635, 0.2       , 0.19009056, 0.17088056, 1.        ],\n",
       "       [0.34710561, 0.2       , 0.18394107, 0.36733508, 1.        ],\n",
       "       [0.32744145, 0.2       , 0.11287299, 0.3414705 , 1.        ],\n",
       "       [0.31816173, 0.2       , 0.24411394, 0.32926475, 0.        ],\n",
       "       [0.69730446, 0.2       , 0.09911586, 0.82795699, 1.        ],\n",
       "       [0.71122404, 0.6       , 0.15735076, 0.33391456, 1.        ],\n",
       "       [0.33517455, 0.2       , 0.25270568, 0.35164196, 1.        ],\n",
       "       [0.2105612 , 0.2       , 0.06480882, 0.18773612, 1.        ],\n",
       "       [0.16438356, 0.2       , 0.12345544, 0.12699797, 1.        ],\n",
       "       [0.46420681, 0.6       , 0.12690599, 0.17146178, 0.        ],\n",
       "       [0.12174105, 0.        , 0.27884426, 0.32025574, 0.        ],\n",
       "       [0.80313743, 0.6       , 0.23217502, 0.3943621 , 1.        ],\n",
       "       [0.43636765, 0.4       , 0.08876761, 0.26368304, 0.        ],\n",
       "       [0.182943  , 0.2       , 0.27363917, 0.15140947, 1.        ],\n",
       "       [0.15466195, 0.2       , 0.13115765, 0.11421099, 1.        ],\n",
       "       [0.19443217, 0.2       , 0.15070673, 0.16652136, 0.        ],\n",
       "       [0.60384445, 0.6       , 0.22020293, 0.26329555, 1.        ],\n",
       "       [0.32501105, 0.2       , 0.2197642 , 0.33827376, 1.        ],\n",
       "       [0.17896597, 0.2       , 0.14621188, 0.14617844, 0.        ],\n",
       "       [0.14604507, 0.2       , 0.14928783, 0.10287707, 1.        ],\n",
       "       [0.36986301, 0.2       , 0.2606632 , 0.39726824, 0.        ],\n",
       "       [0.52982766, 1.        , 0.22114016, 0.08359973, 0.        ],\n",
       "       [0.32589483, 0.2       , 0.09273086, 0.33943621, 1.        ],\n",
       "       [0.29275298, 0.2       , 0.33769082, 0.29584423, 1.        ],\n",
       "       [0.47392841, 0.4       , 0.15753041, 0.2966192 , 1.        ],\n",
       "       [0.56053911, 0.2       , 0.08059195, 0.64806742, 0.        ],\n",
       "       [0.39637649, 0.2       , 0.15881125, 0.43214182, 1.        ],\n",
       "       [0.31352187, 0.4       , 0.18246509, 0.15596241, 1.        ],\n",
       "       [0.14427751, 0.2       , 0.56473211, 0.10055217, 1.        ],\n",
       "       [0.25209898, 0.2       , 0.15189328, 0.2423714 , 1.        ],\n",
       "       [0.20790985, 0.2       , 0.24645515, 0.18424876, 0.        ],\n",
       "       [0.32810429, 0.2       , 0.20192013, 0.34234234, 1.        ],\n",
       "       [0.26491383, 0.2       , 0.24242394, 0.25922697, 1.        ],\n",
       "       [0.38400354, 0.6       , 0.16460653, 0.11871549, 1.        ],\n",
       "       [0.2638091 , 0.2       , 0.15355172, 0.2577739 , 1.        ],\n",
       "       [0.59346001, 0.6       , 0.19824484, 0.25646614, 1.        ],\n",
       "       [0.15510384, 0.2       , 0.24096088, 0.11479221, 0.        ],\n",
       "       [0.22757402, 0.2       , 0.16888894, 0.21011334, 1.        ],\n",
       "       [0.12019443, 0.2       , 0.16488332, 0.06887533, 0.        ],\n",
       "       [0.64803358, 0.6       , 0.2216475 , 0.29235687, 1.        ],\n",
       "       [0.55457357, 0.4       , 0.2891683 , 0.36733508, 1.        ],\n",
       "       [0.27198409, 0.2       , 0.23628101, 0.26852659, 1.        ],\n",
       "       [0.20083959, 0.2       , 0.21532752, 0.17494914, 0.        ],\n",
       "       [0.36897923, 0.6       , 0.09711663, 0.10883464, 1.        ],\n",
       "       [0.43482103, 0.2       , 0.15891203, 0.48270851, 1.        ],\n",
       "       [0.25762262, 0.2       , 0.16854275, 0.24963673, 1.        ],\n",
       "       [1.        , 0.6       , 0.22318084, 0.52383028, 1.        ],\n",
       "       [0.18868758, 0.2       , 0.37994514, 0.15896542, 1.        ],\n",
       "       [0.14317278, 0.2       , 0.17221457, 0.0990991 , 1.        ],\n",
       "       [0.15908087, 0.2       , 0.1939602 , 0.12002325, 1.        ],\n",
       "       [0.24480778, 0.2       , 0.15666751, 0.23278117, 0.        ],\n",
       "       [0.34401237, 0.4       , 0.05531772, 0.18269883, 0.        ],\n",
       "       [0.3451171 , 0.4       , 0.13036386, 0.18366754, 1.        ],\n",
       "       [0.28060097, 0.2       , 0.15676382, 0.27986051, 1.        ],\n",
       "       [0.10318162, 0.2       , 0.22292409, 0.04649811, 1.        ],\n",
       "       [0.28524083, 0.2       , 0.13545983, 0.28596338, 0.        ],\n",
       "       [0.77198409, 0.6       , 0.06415893, 0.37387387, 1.        ],\n",
       "       [0.82810429, 0.2       , 0.05683151, 1.        , 1.        ],\n",
       "       [0.33627928, 0.6       , 0.25187046, 0.08732926, 1.        ],\n",
       "       [0.27883341, 0.2       , 0.08887441, 0.2775356 , 1.        ],\n",
       "       [0.21365444, 0.2       , 0.18101594, 0.19180471, 0.        ],\n",
       "       [0.49690676, 0.6       , 0.19883962, 0.19296716, 1.        ],\n",
       "       [0.43504198, 0.2       , 0.14253906, 0.48299913, 0.        ],\n",
       "       [0.42090146, 0.2       , 0.14015094, 0.46439988, 1.        ],\n",
       "       [0.14825453, 0.2       , 0.20935539, 0.1057832 , 0.        ],\n",
       "       [0.99646487, 1.        , 0.10102302, 0.28819142, 1.        ],\n",
       "       [0.53314185, 0.6       , 0.16513944, 0.21679744, 0.        ],\n",
       "       [0.22801591, 0.2       , 0.23607806, 0.21069457, 1.        ],\n",
       "       [0.28148475, 0.2       , 0.24341742, 0.28102296, 1.        ],\n",
       "       [0.69001326, 1.        , 0.23669121, 0.15383125, 0.        ],\n",
       "       [0.28568272, 0.2       , 0.1324455 , 0.28654461, 0.        ],\n",
       "       [0.27286787, 0.2       , 0.09808364, 0.26968904, 1.        ],\n",
       "       [0.24834291, 0.2       , 0.36147066, 0.23743098, 1.        ],\n",
       "       [0.38930623, 0.8       , 0.30535417, 0.06207498, 1.        ],\n",
       "       [0.5256297 , 0.2       , 0.12044392, 0.60215054, 1.        ],\n",
       "       [0.20923553, 0.2       , 0.24265938, 0.18599244, 1.        ],\n",
       "       [0.32081308, 0.4       , 0.16962503, 0.1623559 , 1.        ],\n",
       "       [0.21188688, 0.2       , 0.23985862, 0.1894798 , 1.        ],\n",
       "       [0.33627928, 0.2       , 0.19028405, 0.35309503, 1.        ],\n",
       "       [0.21939903, 0.2       , 0.17519912, 0.19936065, 0.        ],\n",
       "       [0.22867875, 0.2       , 0.33151638, 0.21156641, 0.        ],\n",
       "       [0.29209015, 0.4       , 0.28472957, 0.13716943, 1.        ],\n",
       "       [0.40897039, 0.2       , 0.21640743, 0.44870677, 1.        ],\n",
       "       [0.63278833, 0.6       , 0.15750983, 0.28233072, 1.        ],\n",
       "       [0.3857711 , 0.6       , 0.23595244, 0.11987794, 0.        ],\n",
       "       [0.22867875, 0.2       , 0.1327216 , 0.21156641, 0.        ],\n",
       "       [0.32567388, 0.6       , 0.14191163, 0.08035455, 1.        ],\n",
       "       [0.25872735, 0.2       , 0.27108139, 0.2510898 , 1.        ],\n",
       "       [0.5735749 , 0.4       , 0.24942518, 0.3839969 , 1.        ],\n",
       "       [0.21254971, 0.2       , 0.18076933, 0.19035164, 1.        ],\n",
       "       [0.33561644, 0.2       , 0.21097542, 0.35222319, 0.        ],\n",
       "       [0.24304021, 0.2       , 0.21052834, 0.23045626, 1.        ],\n",
       "       [0.22293416, 0.2       , 0.25689449, 0.20401046, 0.        ],\n",
       "       [0.18051259, 0.2       , 0.1792564 , 0.14821273, 1.        ],\n",
       "       [0.29164825, 0.2       , 0.17491882, 0.29439117, 0.        ],\n",
       "       [0.46840477, 0.2       , 0.07114828, 0.52688172, 1.        ],\n",
       "       [0.29562528, 0.2       , 0.16972388, 0.2996222 , 1.        ],\n",
       "       [0.28524083, 0.4       , 0.22542615, 0.13116342, 0.        ],\n",
       "       [0.16040654, 0.4       , 0.18678771, 0.02169912, 1.        ],\n",
       "       [0.21409633, 0.2       , 0.20620331, 0.19238593, 1.        ],\n",
       "       [0.47812638, 0.2       , 0.29806748, 0.5396687 , 0.        ],\n",
       "       [0.29253204, 0.4       , 0.1289242 , 0.13755691, 1.        ],\n",
       "       [0.55413168, 0.8       , 0.10513279, 0.14879396, 1.        ],\n",
       "       [0.28457799, 0.2       , 0.13302627, 0.28509154, 0.        ],\n",
       "       [0.0992046 , 0.2       , 0.22948943, 0.04126707, 0.        ],\n",
       "       [0.99867433, 0.6       , 0.15382378, 0.52295844, 1.        ],\n",
       "       [0.46266019, 0.6       , 0.07063883, 0.17044464, 1.        ],\n",
       "       [0.20746796, 0.2       , 0.12560583, 0.18366754, 1.        ],\n",
       "       [0.1674768 , 0.2       , 0.15592988, 0.13106655, 0.        ],\n",
       "       [0.09235528, 0.        , 0.15161091, 0.24295263, 1.        ],\n",
       "       [0.51966416, 0.4       , 0.13725307, 0.33672382, 1.        ],\n",
       "       [0.30755634, 0.2       , 0.03528733, 0.31531532, 1.        ],\n",
       "       [0.22558551, 0.2       , 0.25074769, 0.20749782, 1.        ],\n",
       "       [0.12041538, 0.2       , 0.20463823, 0.06916594, 0.        ],\n",
       "       [0.16062749, 0.4       , 0.18512259, 0.02189286, 1.        ],\n",
       "       [0.33605833, 0.2       , 0.27149611, 0.35280442, 0.        ],\n",
       "       [0.65908087, 0.2       , 0.08728347, 0.77768091, 1.        ],\n",
       "       [0.25983208, 0.2       , 0.24900173, 0.25254287, 1.        ],\n",
       "       [0.        , 0.        , 0.42995685, 0.        , 1.        ],\n",
       "       [0.39438798, 0.2       , 0.23623679, 0.4295263 , 1.        ],\n",
       "       [0.17012815, 0.2       , 0.14947549, 0.13455391, 1.        ],\n",
       "       [0.12593902, 0.2       , 0.28517879, 0.07643127, 1.        ],\n",
       "       [0.52607159, 0.6       , 0.11921224, 0.21214763, 1.        ],\n",
       "       [0.3146266 , 0.2       , 0.24685857, 0.32461494, 1.        ],\n",
       "       [0.39085285, 0.2       , 0.10710087, 0.42487649, 1.        ]])"
      ]
     },
     "execution_count": 25,
     "metadata": {},
     "output_type": "execute_result"
    }
   ],
   "source": [
    "X_train_scaled"
   ]
  },
  {
   "cell_type": "markdown",
   "metadata": {},
   "source": [
    "**1c. Before using any of the methods discussed in the lesson, which features do you think would be most important for \n",
    "predicting the tip amount? The tip percentage?**"
   ]
  },
  {
   "cell_type": "markdown",
   "metadata": {},
   "source": [
    "- We could use features and group them into what we Hypothesize (guess) are the most import features for predicting the tip amount (tip_percentage): \n",
    "    - Features:\n",
    "        - total_bill\n",
    "        - time\n",
    "        - size"
   ]
  },
  {
   "cell_type": "markdown",
   "metadata": {},
   "source": [
    "**1d. Use all the other numeric features to predict tip amount. Use select k best and recursive feature elimination to select the top 2 features. What are they?**"
   ]
  },
  {
   "cell_type": "markdown",
   "metadata": {},
   "source": [
    "SelectKBest\n",
    "- Uses an F Test to compare how well each feature predicts the target variable."
   ]
  },
  {
   "cell_type": "code",
   "execution_count": 26,
   "metadata": {},
   "outputs": [
    {
     "data": {
      "text/plain": [
       "Index(['total_bill', 'number_of_people'], dtype='object')"
      ]
     },
     "execution_count": 26,
     "metadata": {},
     "output_type": "execute_result"
    }
   ],
   "source": [
    "# Use numeric features to predict tip_amount\n",
    "# Use select-K-best and RFE to select the top 2 features\n",
    "k = 2\n",
    "\n",
    "# Make the thing\n",
    "kbest = sklearn.feature_selection.SelectKBest(sklearn.feature_selection.f_regression, k=2)\n",
    "# fit the thing\n",
    "kbest.fit(X_train_scaled, y_train)\n",
    "# use the thing, \n",
    "# get_support() produces an array of booleans, so we can filter out the column names that matter the most\n",
    "X_train.columns[kbest.get_support()]"
   ]
  },
  {
   "cell_type": "code",
   "execution_count": 27,
   "metadata": {},
   "outputs": [
    {
     "data": {
      "text/plain": [
       "['total_bill', 'tip_percentage']"
      ]
     },
     "execution_count": 27,
     "metadata": {},
     "output_type": "execute_result"
    }
   ],
   "source": [
    "# Now let's do RFE\n",
    "\n",
    "# Make the thing(s)\n",
    "lm = sklearn.linear_model.LinearRegression()\n",
    "rfe = sklearn.feature_selection.RFE(lm, n_features_to_select=2)\n",
    "# Fit the thing\n",
    "rfe.fit(X_train_scaled, y_train)\n",
    "# use the thing\n",
    "rfe_columns = X_train.columns[rfe.support_].tolist()\n",
    "rfe_columns"
   ]
  },
  {
   "cell_type": "markdown",
   "metadata": {},
   "source": [
    "**2. Write a function named select_kbest that takes in the predictors (X), the target (y), and the number of features to select (k) and returns the names of the top k selected features based on the SelectKBest class. Test your function with the tips dataset. You should see the same results as when you did the process manually.**"
   ]
  },
  {
   "cell_type": "markdown",
   "metadata": {},
   "source": [
    "def select_kbest(X, y, k):\n",
    "    # make the object\n",
    "    kbest = sklearn.feature_selection.SelectKBest(sklearn.feature_selection.f_regression, k=k)\n",
    "\n",
    "    # fit the object\n",
    "    kbest.fit(X, y)\n",
    "    \n",
    "    # use the object (.get_support() is that array of booleans to filter the list of column names)\n",
    "    return X.columns[kbest.get_support()].tolist()"
   ]
  },
  {
   "cell_type": "code",
   "execution_count": 32,
   "metadata": {},
   "outputs": [
    {
     "data": {
      "text/plain": [
       "['total_bill', 'number_of_people']"
      ]
     },
     "execution_count": 32,
     "metadata": {},
     "output_type": "execute_result"
    }
   ],
   "source": [
    "select_kbest(X_train, y_train, 2)"
   ]
  },
  {
   "cell_type": "markdown",
   "metadata": {},
   "source": [
    "**3. Write a function named rfe that takes in the predictors, the target, and the number of features to select. It should return the top k features based on the RFE class. Test your function with the tips dataset. You should see the same results as when you did the process manually.**"
   ]
  },
  {
   "cell_type": "code",
   "execution_count": 33,
   "metadata": {},
   "outputs": [],
   "source": [
    "def select_rfe(X, y, k, return_rankings=False, model=LinearRegression()):\n",
    "    # Use the passed model, LinearRegression by default\n",
    "    rfe = sklearn.feature_selection.RFE(model, n_features_to_select=k)\n",
    "    rfe.fit(X, y)\n",
    "    features = X.columns[rfe.support_].tolist()\n",
    "    if return_rankings:\n",
    "        rankings = pd.Series(dict(zip(X.columns, rfe.ranking_)))\n",
    "        return features, rankings\n",
    "    else:\n",
    "        return features"
   ]
  },
  {
   "cell_type": "code",
   "execution_count": 34,
   "metadata": {},
   "outputs": [],
   "source": [
    "features_to_use, feature_rankings = select_rfe(X_train, y_train, 3, return_rankings=True)"
   ]
  },
  {
   "cell_type": "code",
   "execution_count": 35,
   "metadata": {},
   "outputs": [
    {
     "data": {
      "text/plain": [
       "total_bill          1\n",
       "number_of_people    1\n",
       "tip_percentage      1\n",
       "price_per_person    3\n",
       "dinner_time         2\n",
       "dtype: int64"
      ]
     },
     "execution_count": 35,
     "metadata": {},
     "output_type": "execute_result"
    }
   ],
   "source": [
    "feature_rankings"
   ]
  },
  {
   "cell_type": "markdown",
   "metadata": {},
   "source": [
    "**4. Load the swiss dataset and use all the other features to predict Fertility. Find the top 3 features using both select k best and recursive feature elimination (use the functions you just built to help you out).**"
   ]
  },
  {
   "cell_type": "code",
   "execution_count": 37,
   "metadata": {},
   "outputs": [
    {
     "data": {
      "text/html": [
       "<div>\n",
       "<style scoped>\n",
       "    .dataframe tbody tr th:only-of-type {\n",
       "        vertical-align: middle;\n",
       "    }\n",
       "\n",
       "    .dataframe tbody tr th {\n",
       "        vertical-align: top;\n",
       "    }\n",
       "\n",
       "    .dataframe thead th {\n",
       "        text-align: right;\n",
       "    }\n",
       "</style>\n",
       "<table border=\"1\" class=\"dataframe\">\n",
       "  <thead>\n",
       "    <tr style=\"text-align: right;\">\n",
       "      <th></th>\n",
       "      <th>Fertility</th>\n",
       "      <th>Agriculture</th>\n",
       "      <th>Examination</th>\n",
       "      <th>Education</th>\n",
       "      <th>Catholic</th>\n",
       "      <th>Infant.Mortality</th>\n",
       "    </tr>\n",
       "  </thead>\n",
       "  <tbody>\n",
       "    <tr>\n",
       "      <th>Courtelary</th>\n",
       "      <td>80.2</td>\n",
       "      <td>17.0</td>\n",
       "      <td>15</td>\n",
       "      <td>12</td>\n",
       "      <td>9.96</td>\n",
       "      <td>22.2</td>\n",
       "    </tr>\n",
       "    <tr>\n",
       "      <th>Delemont</th>\n",
       "      <td>83.1</td>\n",
       "      <td>45.1</td>\n",
       "      <td>6</td>\n",
       "      <td>9</td>\n",
       "      <td>84.84</td>\n",
       "      <td>22.2</td>\n",
       "    </tr>\n",
       "    <tr>\n",
       "      <th>Franches-Mnt</th>\n",
       "      <td>92.5</td>\n",
       "      <td>39.7</td>\n",
       "      <td>5</td>\n",
       "      <td>5</td>\n",
       "      <td>93.40</td>\n",
       "      <td>20.2</td>\n",
       "    </tr>\n",
       "    <tr>\n",
       "      <th>Moutier</th>\n",
       "      <td>85.8</td>\n",
       "      <td>36.5</td>\n",
       "      <td>12</td>\n",
       "      <td>7</td>\n",
       "      <td>33.77</td>\n",
       "      <td>20.3</td>\n",
       "    </tr>\n",
       "    <tr>\n",
       "      <th>Neuveville</th>\n",
       "      <td>76.9</td>\n",
       "      <td>43.5</td>\n",
       "      <td>17</td>\n",
       "      <td>15</td>\n",
       "      <td>5.16</td>\n",
       "      <td>20.6</td>\n",
       "    </tr>\n",
       "  </tbody>\n",
       "</table>\n",
       "</div>"
      ],
      "text/plain": [
       "              Fertility  Agriculture  Examination  Education  Catholic  \\\n",
       "Courtelary         80.2         17.0           15         12      9.96   \n",
       "Delemont           83.1         45.1            6          9     84.84   \n",
       "Franches-Mnt       92.5         39.7            5          5     93.40   \n",
       "Moutier            85.8         36.5           12          7     33.77   \n",
       "Neuveville         76.9         43.5           17         15      5.16   \n",
       "\n",
       "              Infant.Mortality  \n",
       "Courtelary                22.2  \n",
       "Delemont                  22.2  \n",
       "Franches-Mnt              20.2  \n",
       "Moutier                   20.3  \n",
       "Neuveville                20.6  "
      ]
     },
     "execution_count": 37,
     "metadata": {},
     "output_type": "execute_result"
    }
   ],
   "source": [
    "swiss = data('swiss')\n",
    "swiss.head()"
   ]
  },
  {
   "cell_type": "code",
   "execution_count": 38,
   "metadata": {},
   "outputs": [],
   "source": [
    "# Split the data\n",
    "train, validate, test = split(swiss)\n",
    "\n",
    "# Setup X and y\n",
    "X_train = train.drop(columns='Fertility')\n",
    "y_train = train.Fertility\n",
    "\n",
    "X_validate = validate.drop(columns='Fertility')\n",
    "y_validate = validate.Fertility\n",
    "\n",
    "X_test = test.drop(columns='Fertility')\n",
    "y_test = test.Fertility"
   ]
  },
  {
   "cell_type": "code",
   "execution_count": 39,
   "metadata": {},
   "outputs": [],
   "source": [
    "# Scale the data\n",
    "scaler = sklearn.preprocessing.MinMaxScaler()\n",
    "\n",
    "# Fit the scaler\n",
    "scaler.fit(X_train)\n",
    "\n",
    "# Use the scaler to transform train, validate, test\n",
    "X_train_scaled = scaler.transform(X_train)\n",
    "X_validate_scaled = scaler.transform(X_validate)\n",
    "X_test_scaled = scaler.transform(X_test)\n",
    "\n",
    "# Turn everything into a dataframe\n",
    "X_train_scaled = pd.DataFrame(X_train_scaled, columns=X_train.columns)\n",
    "X_validate_scaled = pd.DataFrame(X_validate_scaled, columns=X_train.columns)\n",
    "X_test_scaled = pd.DataFrame(X_test_scaled, columns=X_train.columns)"
   ]
  },
  {
   "cell_type": "code",
   "execution_count": 40,
   "metadata": {},
   "outputs": [
    {
     "data": {
      "text/plain": [
       "['Examination', 'Catholic', 'Infant.Mortality']"
      ]
     },
     "execution_count": 40,
     "metadata": {},
     "output_type": "execute_result"
    }
   ],
   "source": [
    "select_kbest(X_train_scaled, y_train, 3)"
   ]
  },
  {
   "cell_type": "code",
   "execution_count": 41,
   "metadata": {},
   "outputs": [],
   "source": [
    "features, rankings = select_rfe(X_train_scaled, y_train, 3, return_rankings=True)"
   ]
  },
  {
   "cell_type": "code",
   "execution_count": 42,
   "metadata": {},
   "outputs": [
    {
     "data": {
      "text/plain": [
       "['Agriculture', 'Examination', 'Infant.Mortality']"
      ]
     },
     "execution_count": 42,
     "metadata": {},
     "output_type": "execute_result"
    }
   ],
   "source": [
    "features"
   ]
  },
  {
   "cell_type": "code",
   "execution_count": 43,
   "metadata": {},
   "outputs": [
    {
     "data": {
      "text/plain": [
       "Agriculture         1\n",
       "Examination         1\n",
       "Education           3\n",
       "Catholic            2\n",
       "Infant.Mortality    1\n",
       "dtype: int64"
      ]
     },
     "execution_count": 43,
     "metadata": {},
     "output_type": "execute_result"
    }
   ],
   "source": [
    "rankings"
   ]
  },
  {
   "cell_type": "code",
   "execution_count": null,
   "metadata": {},
   "outputs": [],
   "source": []
  }
 ],
 "metadata": {
  "kernelspec": {
   "display_name": "Python 3",
   "language": "python",
   "name": "python3"
  },
  "language_info": {
   "codemirror_mode": {
    "name": "ipython",
    "version": 3
   },
   "file_extension": ".py",
   "mimetype": "text/x-python",
   "name": "python",
   "nbconvert_exporter": "python",
   "pygments_lexer": "ipython3",
   "version": "3.8.5"
  }
 },
 "nbformat": 4,
 "nbformat_minor": 4
}
